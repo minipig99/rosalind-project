{
 "cells": [
  {
   "cell_type": "code",
   "execution_count": 1,
   "metadata": {},
   "outputs": [],
   "source": [
    "from Bio.Seq import Seq\n",
    "import os\n",
    "os.chdir('C:\\\\Users\\\\kimjy\\\\Downloads')"
   ]
  },
  {
   "cell_type": "code",
   "execution_count": 34,
   "metadata": {},
   "outputs": [
    {
     "data": {
      "text/plain": [
       "[229, 250, 250, 266]"
      ]
     },
     "execution_count": 34,
     "metadata": {},
     "output_type": "execute_result"
    }
   ],
   "source": [
    "#1 \n",
    "def dna_count(file_name):\n",
    "    f = open(file_name, 'r')\n",
    "    data = f.read()\n",
    "    f.close()\n",
    "    l = []\n",
    "    dna = Seq(data)\n",
    "    for n in ['A', 'C', 'G', 'T']:\n",
    "        l.append(dna.count(n))\n",
    "    return l\n",
    "\n",
    "dna_count('rosalind_dna (1).txt')"
   ]
  },
  {
   "cell_type": "code",
   "execution_count": 41,
   "metadata": {},
   "outputs": [
    {
     "name": "stdout",
     "output_type": "stream",
     "text": [
      "AUACUGCGAAAUGUUUCCAUGGCCAAUACCACAGCGGCAAGUGCGCCUCCUAUACAACUCCCUACUUAACUGAAUGCCAAGGCCUCUUCCGUAAUUGCGUGAUAACAUCUAUGGGUGGCACUGGGUUAGACCGAUUCACCUAUGCGAAGUGCCUGGGGUCGGGAUAUCUCUCAAUGGUCCAUGAGGAAAUGGUCGCUUAUCGGGUAGCGCGUGGAUCGGCUUUUCUGGUAAAGCCAAGCACGUCUAAAGUCACAUUACUUAUUGUAGUACAGGGCGCGCGAGUUUUGGCACUAAACACAAUAUAUGGGAUCAAGAAUAUCAGCAAGAGGCACCGUCUUGUCUUCAACUGUCCUCAAGCUAGCUCGUCAGUCUUUGCAGACCUUGCGCAGUCCUAGCUUUCUACAUCGAAUAUUGUGUCCCAUAUGUUAAAUCCCGGUGCGAAUUUGUACGCUUCCCUCGGACACUCCCUACUAUAGAGUGAUAGGCUGAGGAGCAUGGACCACCAAGGUGGCUCGUGGCUGCAAGUGUCGUGCUUCCAGUGCCUAGAUCUUGAUCUGCGUUGUAGGCUGCAUUAUUAAGCUGCAGGGCUGCCCUUGCAAAGGUCACGCUGUAUCACCACGGCUGUCUGCUUGCCGUAUAUGACAAGGUUACACGGAGGCCAGCAGUCGAAGAUGCGCUAUCGCAACGGAGCUUACGUAUUGAUGCUACCGUGCUCGUCCUCGCGAGACAUACUCGUCAUUCUCGCAUUCAGAAAGCCUACAUUCCCGUUGAGUUGGGCGAUAAGAAACCCCUUUAUCGAUAGUACAUCGCUUCCGCGGAUUUCGGCGGCCCCCCGAUAUGGAACGCAAUGUACAAGGAGUGGGUGGGUACGCUUGCCCACAAAAGUGGUCCGAUUUGACUAAAAUUUAAACGCAGGGCGAGGCCUUCGA\n",
      "\n"
     ]
    }
   ],
   "source": [
    "#2\n",
    "def dna_transcribe(file_name):\n",
    "    f = open(file_name, 'r')\n",
    "    data = f.read()\n",
    "    f.close()\n",
    "    rna = Seq(data).transcribe()\n",
    "    return(rna)\n",
    "\n",
    "print(dna_transcribe('rosalind_rna (1).txt'))"
   ]
  },
  {
   "cell_type": "code",
   "execution_count": 44,
   "metadata": {},
   "outputs": [
    {
     "name": "stdout",
     "output_type": "stream",
     "text": [
      "\n",
      "CATTTGAACACTAGGGATTACGTAGTGGAGAGGTAAAGATAGCGGAACCTTACAAGATACCCCGTGTCGCCTGAGGCAGTCGTAGTAGGACGCAAGAACGAGCTCAGCATAGATGGGGACAAACTCCTGAATGTTTTATCCGCGTATTGCCTATCAGTTCTGACGATAGATTCTGGAGACCCGCCGCAAAAAATCGCGGTTGGCGCGATCAATAAGACAGAGGACAAAGTGAGCTTGGGAGAATTCGCCTGGTTTTCCTTAGAAACATCATAGGTCTCGATGATCCCCCTTTTGGAGCCGTAGAGAGACATCGCAGGTTGGTAAGCCTGCACGTAACTCTCACGTACTACAGCTGCGTGGCCGTAGTTACGTATCATTTGAGACTCAGGCCAGTCCCTGTTCGGTAGAAGGGCCTTACTTCCGTTCCGTCAGACTGCAACGCGCTACGTTGGCACTTGTATGCATACTCCGGTTCAAGGATTGAACAAGCGACATCCTGGTCAGCCACGGTAGCCGTCATTCGGAGTCTTCGAACACCCGATGAAAAGACACATATGTATCACTCTTCTGTCCAGCCCATGATCAGGGTAAGCAAAACTGACGCAGTGATTGTTATAATGAGTTGATCTGGGTGGCACGGAGGGCTCAGATCACTGAGTCAGATTGAGATCATGTTACCGTGGTATTTCGGCCGACCGTCGCTAAGAGCACACTCGAACCAAGAGTCACTTAGTAATTATGGCGCATTTGATGAGAAGGTACATCTAACACCGCTGTAGTGTGACAATCCCCTCAATCGCGACAATACCCTGAACAGTATGGTGCCGACTACCTGTTAAGAGGTA\n"
     ]
    }
   ],
   "source": [
    "#3\n",
    "def dna_comp(file_name):\n",
    "    f = open(file_name,'r')\n",
    "    data = f.read()\n",
    "    f.close()\n",
    "    dna_rev = Seq(data).reverse_complement() \n",
    "    return(dna_rev)\n",
    "    \n",
    "print(dna_comp('rosalind_revc (1).txt'))"
   ]
  },
  {
   "cell_type": "code",
   "execution_count": 19,
   "metadata": {},
   "outputs": [
    {
     "name": "stdout",
     "output_type": "stream",
     "text": [
      "48127306357829\n"
     ]
    }
   ],
   "source": [
    "#4\n",
    "## Fn = Fn-1 + Fn-2*k\n",
    "\n",
    "def fib(n,k):\n",
    "    _curr, _next = 0,1\n",
    "    for _ in range(n):\n",
    "        _curr, _next = _next, k*_curr + _next\n",
    "    return _curr\n",
    "\n",
    "print(fib(35,4))"
   ]
  },
  {
   "cell_type": "code",
   "execution_count": 21,
   "metadata": {},
   "outputs": [
    {
     "name": "stdout",
     "output_type": "stream",
     "text": [
      "('Rosalind_5131', 50.52386495925495)\n"
     ]
    }
   ],
   "source": [
    "#5. \n",
    "from Bio import SeqIO\n",
    "from Bio.SeqUtils import GC\n",
    "\n",
    "\n",
    "def GC_count(file_name):\n",
    "    dic = {}\n",
    "    seq = SeqIO.parse(file_name, 'fasta')\n",
    "    for s in seq:\n",
    "        dic[s.id] = GC(s.seq)\n",
    "    max_key = max(dic, key = dic.get)\n",
    "    return (max_key, dic[max_key]) \n",
    "\n",
    "max_gc = GC_count('rosalind_gc (1).txt')\n",
    "print(max_gc)"
   ]
  },
  {
   "cell_type": "code",
   "execution_count": 57,
   "metadata": {},
   "outputs": [
    {
     "name": "stdout",
     "output_type": "stream",
     "text": [
      "458\n"
     ]
    }
   ],
   "source": [
    "#6\n",
    "def ham_dis(file_name):\n",
    "    f = open(file_name,'r')\n",
    "    lines = f.readlines()\n",
    "    dna1 = lines[0]\n",
    "    dna2 = lines[1]\n",
    "    hd = 0\n",
    "    for i in range(len(dna1)):\n",
    "        if dna1[i] != dna2[i]:\n",
    "            hd += 1\n",
    "    return hd\n",
    "\n",
    "    \n",
    "print(ham_dis('rosalind_hamm (1).txt'))"
   ]
  },
  {
   "cell_type": "code",
   "execution_count": 106,
   "metadata": {},
   "outputs": [
    {
     "name": "stdout",
     "output_type": "stream",
     "text": [
      "0.6949404761904762\n"
     ]
    }
   ],
   "source": [
    "#7\n",
    "import itertools\n",
    "import numpy as np\n",
    "\n",
    "def mendel_first(k,m,n):\n",
    "    n = [k, m, n]\n",
    "    prob = [0, 0.5, 1]\n",
    "    n_sum = sum(n)\n",
    "    pop = np.repeat(prob, n, axis=0)     \n",
    "    nCr = itertools.combinations(pop, 2)\n",
    "    nCr = list(nCr)\n",
    "    pop_freq = []\n",
    "    \n",
    "    \n",
    "    for i in nCr:\n",
    "        pop_freq.append(i[0]*i[1])\n",
    "    \n",
    "    l = []\n",
    "    for i in pop_freq:\n",
    "        l.append(pop_freq.count(i) / len(pop_freq) * i)\n",
    "    l = set(l)    \n",
    "    return 1-sum(l)\n",
    "\n",
    "print(mendel_first(18, 21, 25))"
   ]
  },
  {
   "cell_type": "code",
   "execution_count": 113,
   "metadata": {},
   "outputs": [
    {
     "name": "stdout",
     "output_type": "stream",
     "text": [
      "MARALGSGRRPEDSQLHWKIHGFLNCGLRLLLPTALVYCESLACLGTLRSYSQERLYNFPCMLFEVQSIQGCHNTSVLLTTSQQGTLPSKPEKTYWPDPPNNSQESKANRSPNFSDVYLRPQDGSFQVRITSTYTGMRISSLRRVHSFESQGWQTHVRWVVYWSDGVRSRRLVLQFTFLQDGCCRVHLGSHRCINTQFFCVQYSPLRNVSLLDFFNSAMACPGAGVSLTHPRRTSGHYQTRMAQHRDVNRETGAQDPYGGISATSRSHAYTSLVWSSWFARGQNIVTGMIAFEIELLPQVYAGPSACKGQSKNVDSAKEINVPPKVLVPVFLKHVSRRSLAEKTPQTVYLGPQHQRESNQKKQAACSRSQARVWPDSQQALTLTRRLMRINVEGSIAKAHVLLGEMEVAMVQAIIKLMLVHPYPVLRNGKNPPLPFFRHVLETILVLCPCYTGHHAQRCGGPPNSNRVTHIVYLELSREKKRRCLLNPCSTRLNKCLLMCVWSPKCPHMGSRPIANLGVNPHKLQRRYKRLAKWYNVLSDTQQWTPRFALDPQLRNTMFRVSRVSESQNFNKRARNHLGISRNWSDIQRRRDYSNLSMACQSGYIKKNEFRSVDGRVVYGKNLLGRCLTQKQSSAGTKQKGCNYLETRGSLKGLPFHGDSPLMLNLRCVLREQSLKGIEESTAFFLGLFVEPGWSGVTSCFRWELFGIHMEAVGRCTITTLKKHPMGYMLACSCGVDPLTEALGYTLRALPHRDQTREWVRPSELLSPRAAFYGSDNLIVRTSTTVSQKSAPCCHAEVSPIGLEIILTRSLYRNPEFNVWQRKSLQESQYTGVWVMDLKRHQFAVRLWKMAPGCDYSSQISVRTYSVTNIYYDLYLLFPISRIAKFALYFRGVSALLPIFMIRYLELTLHSLGQTRGESFLSGGRSPEQTHAKVTVLSVSHGPVKLREERACGASQISRLLYYSRVSKSGSGGLPFNRLMDPRPARTKGSQSCDIGQPGRTGGRSCQLSPSSVTSDRRFLRPIYPGRASHLTVDSDGDFIRVGFWNYSERRGPWGKQKTGACAVPYLQVRRASSSAIERVTLYRRRVLRWHSRSGTSKERWSSVQLWPVTICTAIDSGDETANLPLAQSNPEIKTLSRVQHGGHYYREFRTRGTSTERLAVAVGISGLGLPRRMLIPQRPAETADMSATRHHRRPICCVTYDNQARPAVVWDRDQPADLRNISLECPRYIRTDCIGAYYRCRTRTFVTGVMFLRLVIGICNYHMNLDSLPSFSQDVSSPCTSRRVLLLGEEVKAIHEPHVLQKRCHSTLYYRTILLILKALKCASSKSPTGTDRPETAGVYIAQRFKPTRLTSVPSNSNIHIRYSRPSLLCQTHYKGKITSHCTVPRISHWLNGFTAAHIGAGAPVPLTPMSELSMVLYDLRFILPSGDHEITARQFDHLLQLLATGHCTPECGLLRRTGLCPMQPMTRKDGIQATIVASRAGLTLPVRSGVSNSPPRVDWAKHVSSEHIHTRTNLVVHAQIKSNPYRKSFTSGHAVVERPSPSAPVSTGRHVAGLENWILLLPGLLTNHRTCCDRSTRAPKVIDDNAKCGHPHQYNTRERQVNAKLRKSLSFAIRLEGGCYHVAITKLSPEHSTRVEEHSHYTKALTGTTESGYAIGGFVANVCFGAFTGPVLPAHPRCFSRSGRHIFYTTLPVGGNLWALCNTMRVRANLLRPYDKTTTITYMVIATLHHRARATYEVRDVTLFTKVTSYLGQVRPSDRFAISFPRPPCITLTVVFIVIPYTCGCNSFAYALYGLTSTRVDTGTNSQLFVAEASAMTGRYKKHKKHAPNIWHTPSGPYGHGLSLRKRNVIIQDTIRPPCPVDQVRQSWRSPSPTYVFTEACKHYVSVPRVAPRTCGFSSANVINLVSAQISRGHLSFGRSEILWRQSKSASRGTPCSAVCVSIVATRQSRYRIQFCRVLDISGYDSIIWRLETVPDNRDETIRDHTAKNTRHFDKLPDMPHMLGLRSSVYSEHGASDMALWRTVSTITCSIKHDTSHWCSASLQSSEGTSVGRFRQTCSNLHRDTKSSVPPILGPLIVSSSYLRTSESQAFMSCMRTRCQDPGHDLSVSHRRRHCRLQYGIRITLSVPDSFNANNCTTHMLFLIDCVFCVDDCVLYNASSTVRISGLHYYATGKSNSSPDGITGCQLNQPRSFSKYTKAGPPKPLQTRTKVSILGIVMQIYQKLLTKKSGSTHRLATRHAHKSTACERVRSPAEHIPLRRRRRLSPLVDIQTPGPPVASASMSTTLNCWCRGFGRGQKLRSAELVRLYRLGTLGWPLPRGTAASRNDLLGIFSPTPEQRWVHSAVTSRRRIRPQLKRCSEIVCPHCQRGFYRKQSTLRRSPSRSSRRNTSAPSGGVEVTVGLFRSFYLYKYSVDVNNCTSQSVTWPPSCLRSKHMQLEASTCYLLCVIPVKLYCESYSYRRTETSRLEGTTTLLDTHARSDPTHRVQCYANSIELNNSMVRPTGALASPDAAIAPTLHLHPGFRYARLDCPSSSFTKNLVNTSDCEQRAHISTFKRHWAIIPPSRTTTRVGVTSMPDLGTSAPRSVDRTHESKFKSQHKSVPHYEKKESQQSFASYANVKGSRYRINLYAPTLVFDSHGTRITLNTDSVSALSVGHTIVRREPRRRILALTFTSLWSSGSACRDSTVKRLNLVCGGMPAPNNDSQHGKTCNPPCSRGLDFASAPAAAQKGRAMIQDLPPRRSASIRECARVRCISPIVPALGSSDGSSGRIKVKWTTVLRDNDRSLRVIISDV*\n"
     ]
    }
   ],
   "source": [
    "#8\n",
    "def dna_translate(file_name):\n",
    "    f = open(file_name, 'r')\n",
    "    data = f.read()\n",
    "    f.close()\n",
    "    pro = Seq(data).translate()\n",
    "    return(pro)\n",
    "\n",
    "print(dna_translate('rosalind_prot.txt'))"
   ]
  },
  {
   "cell_type": "code",
   "execution_count": 26,
   "metadata": {},
   "outputs": [
    {
     "name": "stdout",
     "output_type": "stream",
     "text": [
      "32 44 51 100 177 203 210 229 246 253 260 288 309 324 332 339 346 353 360 386 402 448 462 485 492 499 543 550 574 686 710\n"
     ]
    }
   ],
   "source": [
    "#9\n",
    "\n",
    "def motif(file_name):\n",
    "    f = open(file_name, 'r')\n",
    "    lines = f.readlines()\n",
    "    s = lines[0].rstrip()\n",
    "    t = lines[1].rstrip()\n",
    "    count = []\n",
    "    for i in range(len(s)):\n",
    "        if s[i:i+len(t)] == t:\n",
    "            count.append(str(i+1))\n",
    "    count = ' '.join(count)\n",
    "    return count\n",
    "\n",
    "\n",
    "print(motif('rosalind_subs (2).txt'))"
   ]
  },
  {
   "cell_type": "code",
   "execution_count": 20,
   "metadata": {},
   "outputs": [
    {
     "name": "stdout",
     "output_type": "stream",
     "text": [
      "GAAGACTTCGGGATTCAACGAATTTCAATTCTACGCAATATAGTAGATGAACACGCGGGTTAGACAAGACCTAAAGCAATAAAAGAAGTCTGTTACTGCTATTCAGCACTGCCACAAGGGCAGAACAGCTCCGGAGCCCAGAAAGGAGAGTCATACGAGACCAGTACGGTGGCTGTGGTGGCGCAAAATAGGCGAGCGAGTGGAACGATTGAGCAAAACCCTGCCTAGTTCCGCACAGGCCCCCCATGGAACGCAAATACGACCACTTACTTGCAAGATTACTCACTACCGAACCGGTAAACGGAGAAATCAATCCCCAAAGTTCATAAAACGATGGCCGGAGTCATAAACGAGGAACATACAGTGTCAACCAGTATCCGCGCGAAAGCCCCCCTGATAACCGACGGAGGTCGTAAAGAGCAAGACCACCACCGCGCTTTTGTCTATAAACAGCGAAAACACGCTGCTAGACCCTCAACCTCTCCGCAGTTAAACGGATAGTAGCCGCAAGACCCTAACCTATTCACAGTGCGACAGAGAATTCAAGCGACAGAAATTATAACCGATACTATCCGAAAAAAGAGATCCCCCATCTGCAGGGGGAAAACATATACTAGCCAACTGCAGCCCAAAACCACAGGACACCCTATCTCAAGAGGACAGGTCGGAACGGCGCCGAAAGCGATGCAGCGCGAGTATCATACGAAAAACCCGTCTTACCCCCCTAAATAAGGGATAGGATCTCTAGCGTCCAAGAAGTATACCACGCATAGTTGTGCCGGCGACCCGAAAAACCTCAATGCAAAAAATCCCCCAGTCGGGAGCGTTAAAGATAAACTGCCAAGGTCCTACAAGAGCTACACGACATATGTTAGCCGCGTATCTTGTAAAGTCAAACAATCCTAAATGCGATC\n"
     ]
    }
   ],
   "source": [
    "#10\n",
    "\n",
    "import numpy as np\n",
    "from Bio import SeqIO\n",
    "import collections\n",
    "import pandas as pd\n",
    "from pandas import Series\n",
    "\n",
    "\n",
    "def consensus(file_name):\n",
    "    seq = SeqIO.parse(file_name, 'fasta')\n",
    "\n",
    "    l = []\n",
    "    for s in seq:\n",
    "        row = list(s.seq)\n",
    "        l.append(row)\n",
    "\n",
    "    mat = np.array(l)\n",
    "    A = []\n",
    "    C = []\n",
    "    G = []\n",
    "    T = []\n",
    "\n",
    "    for i in range(mat.shape[1]):\n",
    "        string = ''.join(mat[:,i])\n",
    "        A.append(string.count('A'))\n",
    "        C.append(string.count('C'))\n",
    "        G.append(string.count('G'))\n",
    "        T.append(string.count('T'))\n",
    "        \n",
    "    data = {'A':A, 'C':C, 'G':G, 'T':T}\n",
    "    df = pd.DataFrame(data).transpose()\n",
    "\n",
    "    return df\n",
    "\n",
    "\n",
    "cons = consensus('rosalind_cons (2).txt')\n",
    "oh = cons.idxmax(axis=0)\n",
    "#print(oh.tolist())\n",
    "print(''.join(oh))\n",
    "    \n",
    "\n",
    "cons.to_excel('output2.xlsx')\n"
   ]
  },
  {
   "cell_type": "code",
   "execution_count": null,
   "metadata": {},
   "outputs": [],
   "source": []
  }
 ],
 "metadata": {
  "kernelspec": {
   "display_name": "Python 3",
   "language": "python",
   "name": "python3"
  },
  "language_info": {
   "codemirror_mode": {
    "name": "ipython",
    "version": 3
   },
   "file_extension": ".py",
   "mimetype": "text/x-python",
   "name": "python",
   "nbconvert_exporter": "python",
   "pygments_lexer": "ipython3",
   "version": "3.8.5"
  }
 },
 "nbformat": 4,
 "nbformat_minor": 4
}
